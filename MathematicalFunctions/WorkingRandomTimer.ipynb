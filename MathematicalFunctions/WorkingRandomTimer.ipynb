{
 "cells": [
  {
   "cell_type": "code",
   "execution_count": 5,
   "metadata": {},
   "outputs": [
    {
     "name": "stdout",
     "output_type": "stream",
     "text": [
      "0 Minutes 55 Seconds"
     ]
    },
    {
     "ename": "NameError",
     "evalue": "name 'tot_time' is not defined",
     "output_type": "error",
     "traceback": [
      "\u001b[0;31m---------------------------------------------------------------------------\u001b[0m",
      "\u001b[0;31mKeyboardInterrupt\u001b[0m                         Traceback (most recent call last)",
      "\u001b[0;32m<ipython-input-5-e420f586057f>\u001b[0m in \u001b[0;36m<module>\u001b[0;34m\u001b[0m\n\u001b[1;32m     16\u001b[0m         \u001b[0msys\u001b[0m\u001b[0;34m.\u001b[0m\u001b[0mstdout\u001b[0m\u001b[0;34m.\u001b[0m\u001b[0mflush\u001b[0m\u001b[0;34m(\u001b[0m\u001b[0;34m)\u001b[0m\u001b[0;34m\u001b[0m\u001b[0;34m\u001b[0m\u001b[0m\n\u001b[0;32m---> 17\u001b[0;31m         \u001b[0mtime\u001b[0m\u001b[0;34m.\u001b[0m\u001b[0msleep\u001b[0m\u001b[0;34m(\u001b[0m\u001b[0;36m1\u001b[0m\u001b[0;34m)\u001b[0m\u001b[0;34m\u001b[0m\u001b[0;34m\u001b[0m\u001b[0m\n\u001b[0m\u001b[1;32m     18\u001b[0m         \u001b[0mseconds\u001b[0m \u001b[0;34m=\u001b[0m \u001b[0mint\u001b[0m\u001b[0;34m(\u001b[0m\u001b[0mtime\u001b[0m\u001b[0;34m.\u001b[0m\u001b[0mtime\u001b[0m\u001b[0;34m(\u001b[0m\u001b[0;34m)\u001b[0m \u001b[0;34m-\u001b[0m \u001b[0mtime_start\u001b[0m\u001b[0;34m)\u001b[0m \u001b[0;34m-\u001b[0m \u001b[0mminutes\u001b[0m \u001b[0;34m*\u001b[0m \u001b[0;36m60\u001b[0m\u001b[0;34m\u001b[0m\u001b[0;34m\u001b[0m\u001b[0m\n",
      "\u001b[0;31mKeyboardInterrupt\u001b[0m: ",
      "\nDuring handling of the above exception, another exception occurred:\n",
      "\u001b[0;31mNameError\u001b[0m                                 Traceback (most recent call last)",
      "\u001b[0;32m<ipython-input-5-e420f586057f>\u001b[0m in \u001b[0;36m<module>\u001b[0;34m\u001b[0m\n\u001b[1;32m     21\u001b[0m             \u001b[0mminutes\u001b[0m \u001b[0;34m+=\u001b[0m \u001b[0;36m1\u001b[0m\u001b[0;34m\u001b[0m\u001b[0;34m\u001b[0m\u001b[0m\n\u001b[1;32m     22\u001b[0m             \u001b[0mseconds\u001b[0m \u001b[0;34m=\u001b[0m \u001b[0;36m0\u001b[0m\u001b[0;34m\u001b[0m\u001b[0;34m\u001b[0m\u001b[0m\n\u001b[0;32m---> 23\u001b[0;31m     \u001b[0;32mexcept\u001b[0m \u001b[0mtot_time\u001b[0m \u001b[0;34m==\u001b[0m \u001b[0mtimeout\u001b[0m\u001b[0;34m:\u001b[0m\u001b[0;34m\u001b[0m\u001b[0;34m\u001b[0m\u001b[0m\n\u001b[0m\u001b[1;32m     24\u001b[0m         \u001b[0;32mbreak\u001b[0m\u001b[0;34m\u001b[0m\u001b[0;34m\u001b[0m\u001b[0m\n",
      "\u001b[0;31mNameError\u001b[0m: name 'tot_time' is not defined"
     ]
    }
   ],
   "source": [
    "import time\n",
    "import sys\n",
    "import random\n",
    "\n",
    "time_start = time.time()\n",
    "x = random.randint(15,30)\n",
    "timeout = time_start + x\n",
    "timeloop = True\n",
    "seconds = 0\n",
    "minutes = 0\n",
    "total_seconds = 0\n",
    "\n",
    "while timeloop:\n",
    "    try:\n",
    "        sys.stdout.write(\"\\r{minutes} Minutes {seconds} Seconds\".format(minutes=minutes, seconds=seconds))\n",
    "        sys.stdout.flush()\n",
    "        time.sleep(1)\n",
    "        seconds = int(time.time() - time_start) - minutes * 60\n",
    "        total_seconds = int(time.time() - time_start) - minutes * 60\n",
    "        if seconds >= 60:\n",
    "            minutes += 1\n",
    "            seconds = 0\n",
    "    except tot_time == timeout:\n",
    "        break"
   ]
  },
  {
   "cell_type": "code",
   "execution_count": 6,
   "metadata": {},
   "outputs": [
    {
     "name": "stdout",
     "output_type": "stream",
     "text": [
      "0 Minutes 22 Seconds"
     ]
    }
   ],
   "source": [
    "import time\n",
    "import sys\n",
    "\n",
    "time_start = time.time()\n",
    "timeout = random.randint(10,30)\n",
    "timeloop = True\n",
    "seconds = 0\n",
    "minutes = 0\n",
    "tot_time = 0\n",
    "runthroughs = 0\n",
    "\n",
    "try:\n",
    "    while timeloop:\n",
    "        sys.stdout.write(\"\\r{minutes} Minutes {seconds} Seconds\".format(minutes=minutes, seconds=seconds))\n",
    "        sys.stdout.flush()\n",
    "        time.sleep(1)\n",
    "        seconds = int(time.time() - time_start) - minutes * 60\n",
    "        tot_seconds = int(time.time() - time_start) - minutes * 60\n",
    "        if seconds >= 60:\n",
    "            minutes += 1\n",
    "            seconds = 0\n",
    "        if seconds == timeout:\n",
    "            time_start = time.time()\n",
    "            seconds = 0\n",
    "            minutes = 0\n",
    "            tot_seconds = 0\n",
    "            timeout = random.randint(10,30)\n",
    "            runthroughs += 1\n",
    "        if runthroughs == 10:\n",
    "            break\n",
    "except RuntimeError:\n",
    "    pass"
   ]
  },
  {
   "cell_type": "code",
   "execution_count": null,
   "metadata": {},
   "outputs": [],
   "source": []
  },
  {
   "cell_type": "code",
   "execution_count": null,
   "metadata": {},
   "outputs": [],
   "source": []
  }
 ],
 "metadata": {
  "kernelspec": {
   "display_name": "Python 3",
   "language": "python",
   "name": "python3"
  },
  "language_info": {
   "codemirror_mode": {
    "name": "ipython",
    "version": 3
   },
   "file_extension": ".py",
   "mimetype": "text/x-python",
   "name": "python",
   "nbconvert_exporter": "python",
   "pygments_lexer": "ipython3",
   "version": "3.8.3"
  }
 },
 "nbformat": 4,
 "nbformat_minor": 4
}
