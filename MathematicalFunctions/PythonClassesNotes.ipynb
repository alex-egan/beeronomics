{
 "cells": [
  {
   "cell_type": "code",
   "execution_count": 2,
   "metadata": {},
   "outputs": [
    {
     "name": "stdout",
     "output_type": "stream",
     "text": [
      "New car made!\n",
      "New car made!\n",
      "New car made!\n"
     ]
    }
   ],
   "source": [
    "class Vehicle:\n",
    "  \"\"\" This class defines vehicles. \"\"\"\n",
    "  def __init__(self, color='plain'):\n",
    "      \"\"\" Setup some custom car properties \"\"\"\n",
    "      print('New car made!')\n",
    "      self.color = color\n",
    "red_car = Vehicle()\n",
    "green_car = Vehicle()\n",
    "blue_car = Vehicle()"
   ]
  },
  {
   "cell_type": "code",
   "execution_count": 2,
   "metadata": {},
   "outputs": [
    {
     "name": "stdout",
     "output_type": "stream",
     "text": [
      "Nikhil\n",
      "Hello, my name is Nikhil\n"
     ]
    }
   ],
   "source": [
    "##The __init__ method is similar to constructors in C++ and Java. \n",
    "##Constructors are used to initialize the object’s state. \n",
    "##The task of constructors is to initialize(assign values) to the data members \n",
    "##of the class when an object of class is created.\n",
    "\n",
    "# A Sample class with init method   \n",
    "class Person:   \n",
    "      \n",
    "    # init method or constructor    \n",
    "    def __init__(self, name):   \n",
    "        self.name = name   \n",
    "      \n",
    "    # Sample Method    \n",
    "    def say_hi(self):   \n",
    "        print('Hello, my name is', self.name)   \n",
    "      \n",
    "p = Person('Nikhil')\n",
    "print(p.name)\n",
    "p.say_hi() "
   ]
  },
  {
   "cell_type": "code",
   "execution_count": null,
   "metadata": {},
   "outputs": [],
   "source": [
    "class Beer:\n",
    "    def __init__(self, id, name, min_price, max_price, active_price, purchase_count, start_price):\n",
    "        self.id = "
   ]
  }
 ],
 "metadata": {
  "kernelspec": {
   "display_name": "Python 3",
   "language": "python",
   "name": "python3"
  },
  "language_info": {
   "codemirror_mode": {
    "name": "ipython",
    "version": 3
   },
   "file_extension": ".py",
   "mimetype": "text/x-python",
   "name": "python",
   "nbconvert_exporter": "python",
   "pygments_lexer": "ipython3",
   "version": "3.8.3"
  }
 },
 "nbformat": 4,
 "nbformat_minor": 4
}
