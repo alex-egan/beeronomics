{
 "cells": [
  {
   "cell_type": "code",
   "execution_count": 2,
   "metadata": {},
   "outputs": [
    {
     "ename": "SystemExit",
     "evalue": "0",
     "output_type": "error",
     "traceback": [
      "An exception has occurred, use %tb to see the full traceback.\n",
      "\u001b[0;31mSystemExit\u001b[0m\u001b[0;31m:\u001b[0m 0\n"
     ]
    },
    {
     "name": "stderr",
     "output_type": "stream",
     "text": [
      "/Users/administrator/opt/anaconda3/lib/python3.8/site-packages/IPython/core/interactiveshell.py:3351: UserWarning: To exit: use 'exit', 'quit', or Ctrl-D.\n",
      "  warn(\"To exit: use 'exit', 'quit', or Ctrl-D.\", stacklevel=1)\n"
     ]
    }
   ],
   "source": [
    "from tkinter import *\n",
    "\n",
    "index = 0\n",
    "def changeColor():\n",
    "    global index\n",
    "    if index%2==0:\n",
    "        label.configure(bg = \"purple\")\n",
    "    else:\n",
    "        label.configure(bg = \"blue\")\n",
    "    index+=1\n",
    "    label.after(1000, changeColor)\n",
    "\n",
    "root = Tk()\n",
    "mainContainer = Frame(root)\n",
    "label = Label(mainContainer, text=\"\")\n",
    "label.configure(text=\"msg will change every sec\")\n",
    "label.pack(side=LEFT, ipadx=5, ipady=5)\n",
    "mainContainer.pack()\n",
    "label.after(1000, changeColor)\n",
    "root.title(\"Timed event\")\n",
    "root.mainloop()"
   ]
  },
  {
   "cell_type": "code",
   "execution_count": null,
   "metadata": {},
   "outputs": [],
   "source": []
  }
 ],
 "metadata": {
  "kernelspec": {
   "display_name": "Python 3",
   "language": "python",
   "name": "python3"
  },
  "language_info": {
   "codemirror_mode": {
    "name": "ipython",
    "version": 3
   },
   "file_extension": ".py",
   "mimetype": "text/x-python",
   "name": "python",
   "nbconvert_exporter": "python",
   "pygments_lexer": "ipython3",
   "version": "3.8.3"
  }
 },
 "nbformat": 4,
 "nbformat_minor": 4
}
