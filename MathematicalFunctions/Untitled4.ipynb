{
 "cells": [
  {
   "cell_type": "code",
   "execution_count": 1,
   "metadata": {},
   "outputs": [],
   "source": [
    "import tkinter as tk\n",
    "import mysql.connector\n",
    "\n",
    "connection = mysql.connector.connect(host='localhost', # Setting up the database connection\n",
    "                                     database = 'beeronomics',\n",
    "                                     user='root',\n",
    "                                     password='Cheers!!')\n",
    "\n",
    "# Creates a main window\n",
    "beeronomics = tk.Tk() \n",
    "beeronomics.title('Beeronomics') \n",
    "\n",
    "connection = mysql.connector.connect(host='localhost', # Setting up the database connection\n",
    "                                         database = 'beeronomics',\n",
    "                                         user='root',\n",
    "                                         password='Cheers!!')\n",
    "\n",
    "cursor1 = connection.cursor(buffered = True)\n",
    "mySql_Select_Beer_Ids = \"\"\"SELECT beer_id FROM beer_types\"\"\"\n",
    "result = cursor1.execute(mySql_Select_Beer_Ids)\n",
    "record = cursor1.fetchall()\n",
    "rows = cursor1.rowcount\n",
    "\n",
    "for i in range(0,rows):\n",
    "    button = tk.Button(beeronomics, text='Beer', width=50, command=beeronomics.) \n",
    "    button.pack() \n",
    "\n",
    "beeronomics.mainloop()"
   ]
  },
  {
   "cell_type": "code",
   "execution_count": 5,
   "metadata": {},
   "outputs": [
    {
     "name": "stderr",
     "output_type": "stream",
     "text": [
      "Exception in Tkinter callback\n",
      "Traceback (most recent call last):\n",
      "  File \"/anaconda3/lib/python3.7/tkinter/__init__.py\", line 1705, in __call__\n",
      "    return self.func(*args)\n",
      "  File \"<ipython-input-5-a44101955501>\", line 6, in helloCallBack\n",
      "    tk.MessageBox.showinfo( \"Hello Python\", \"Hello World\")\n",
      "NameError: name 'tk' is not defined\n"
     ]
    }
   ],
   "source": [
    "import tkinter\n",
    "\n",
    "top = tkinter.Tk()\n",
    "\n",
    "def helloCallBack():\n",
    "   tk.MessageBox.showinfo( \"Hello Python\", \"Hello World\")\n",
    "\n",
    "B = tkinter.Button(top, text =\"Hello\", command = helloCallBack)\n",
    "\n",
    "B.pack()\n",
    "top.mainloop()"
   ]
  },
  {
   "cell_type": "code",
   "execution_count": null,
   "metadata": {},
   "outputs": [],
   "source": []
  }
 ],
 "metadata": {
  "kernelspec": {
   "display_name": "Python 3",
   "language": "python",
   "name": "python3"
  },
  "language_info": {
   "codemirror_mode": {
    "name": "ipython",
    "version": 3
   },
   "file_extension": ".py",
   "mimetype": "text/x-python",
   "name": "python",
   "nbconvert_exporter": "python",
   "pygments_lexer": "ipython3",
   "version": "3.7.1"
  }
 },
 "nbformat": 4,
 "nbformat_minor": 2
}
