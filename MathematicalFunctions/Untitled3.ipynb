{
 "cells": [
  {
   "cell_type": "code",
   "execution_count": null,
   "metadata": {},
   "outputs": [],
   "source": [
    "import tkinter as tk\n",
    "import mysql.connector\n",
    "\n",
    "connection = mysql.connector.connect(host='localhost', # Setting up the database connection\n",
    "                                     database = 'beeronomics',\n",
    "                                     user='root',\n",
    "                                     password='Cheers!!')\n",
    "\n",
    "\n",
    "beeronomics = tk.Tk() \n",
    "beeronomics.title('Beeronomics') \n",
    "\n",
    "connection = mysql.connector.connect(host='localhost', # Setting up the database connection\n",
    "                                         database = 'beeronomics',\n",
    "                                         user='root',\n",
    "                                         password='Cheers!!')\n",
    "\n",
    "cursor1 = connection.cursor(buffered = True)\n",
    "mySql_Select_Beer_Ids = \"\"\"SELECT beer_id FROM beer_types\"\"\"\n",
    "result = cursor1.execute(mySql_Select_Beer_Price,(Id,))\n",
    "record = cursor1.fetchall()\n",
    "rows = cursor.rowcount\n",
    "\n",
    "for i in range(0,rows):\n",
    "    button = tk.Button(beeronomics, text='Drink', width=50, command=beeronomics.destroy) \n",
    "    \n",
    "start_button.pack() \n",
    "beeronomics.mainloop()"
   ]
  },
  {
   "cell_type": "code",
   "execution_count": null,
   "metadata": {},
   "outputs": [],
   "source": []
  }
 ],
 "metadata": {
  "kernelspec": {
   "display_name": "Python 3",
   "language": "python",
   "name": "python3"
  },
  "language_info": {
   "codemirror_mode": {
    "name": "ipython",
    "version": 3
   },
   "file_extension": ".py",
   "mimetype": "text/x-python",
   "name": "python",
   "nbconvert_exporter": "python",
   "pygments_lexer": "ipython3",
   "version": "3.7.1"
  }
 },
 "nbformat": 4,
 "nbformat_minor": 2
}
