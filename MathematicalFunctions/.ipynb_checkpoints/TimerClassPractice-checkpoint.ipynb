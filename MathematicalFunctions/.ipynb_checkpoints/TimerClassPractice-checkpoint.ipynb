{
 "cells": [
  {
   "cell_type": "code",
   "execution_count": 2,
   "metadata": {},
   "outputs": [],
   "source": [
    "## defining a timer class ##\n",
    "class Timer:\n",
    "    def __timer__(self):\n",
    "        time_start = time.time()\n",
    "        timeout = time_start + 60\n",
    "        timeloop = True\n",
    "        seconds = 0\n",
    "        minutes = 0\n",
    "        total_seconds = 0\n",
    "\n",
    "        while timeloop:\n",
    "            try:\n",
    "                sys.stdout.write(\"\\r{minutes} Minutes {seconds} Seconds\".format(minutes=minutes, seconds=seconds))\n",
    "                sys.stdout.flush()\n",
    "                time.sleep(1)\n",
    "                seconds = int(time.time() - time_start) - minutes * 60\n",
    "                total_seconds = int(time.time() - time_start) - minutes * 60\n",
    "                if seconds >= 60:\n",
    "                    minutes += 1\n",
    "                    seconds = 0\n",
    "            except total_seconds == timeout:\n",
    "                break\n",
    "        \n",
    "timer1 = Timer()\n",
    "timer2 = Timer()\n",
    "timer3 = Timer()"
   ]
  },
  {
   "cell_type": "code",
   "execution_count": null,
   "metadata": {},
   "outputs": [],
   "source": []
  }
 ],
 "metadata": {
  "kernelspec": {
   "display_name": "Python 3",
   "language": "python",
   "name": "python3"
  },
  "language_info": {
   "codemirror_mode": {
    "name": "ipython",
    "version": 3
   },
   "file_extension": ".py",
   "mimetype": "text/x-python",
   "name": "python",
   "nbconvert_exporter": "python",
   "pygments_lexer": "ipython3",
   "version": "3.7.1"
  }
 },
 "nbformat": 4,
 "nbformat_minor": 2
}
