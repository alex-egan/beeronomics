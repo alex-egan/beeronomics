{
 "cells": [
  {
   "cell_type": "code",
   "execution_count": 1,
   "metadata": {},
   "outputs": [
    {
     "name": "stdin",
     "output_type": "stream",
     "text": [
      "Give me a value that is one or I won't do shit. 1\n"
     ]
    },
    {
     "name": "stdout",
     "output_type": "stream",
     "text": [
      "[1, 2, 3, 4, 5, 6]\n",
      "[5.56, 5.56, 1.5, 0.75, 2.25, 2.75]\n",
      "5.31\n",
      "5.31\n",
      "1.25\n",
      "0.5\n",
      "2.0\n",
      "2.5\n"
     ]
    }
   ],
   "source": [
    "import mysql.connector\n",
    "import time\n",
    "\n",
    "Id = int(input(\"Give me a value that is one or I won't do shit.\"))\n",
    "\n",
    "if Id == 1:\n",
    "    connection = mysql.connector.connect(host='localhost', # Setting up the database connection\n",
    "                                         database = 'beeronomics',\n",
    "                                         user='root',\n",
    "                                         password='Cheers!!')\n",
    "\n",
    "    cursor1 = connection.cursor(buffered = True) # Creates a Cursor (called cursor) that connects to the database\n",
    "    cursor2 = connection.cursor(buffered = True)\n",
    "    \n",
    "    mySql_Select_Beer_Ids = \"\"\"SELECT beer_id FROM beer_types\"\"\"\n",
    "    mySql_Select_Beer_Prices = \"\"\"SELECT beer_price_min FROM beer_types\"\"\"\n",
    "    records1 = cursor1.execute(mySql_Select_Beer_Ids)\n",
    "    results1 = cursor1.fetchall()\n",
    "    records2 = cursor2.execute(mySql_Select_Beer_Prices)\n",
    "    results2 = cursor2.fetchall()\n",
    "    rows = cursor1.rowcount\n",
    "    beer_ids = []\n",
    "    beer_prices = []\n",
    "    \n",
    "    for t in results1: \n",
    "        for x in t:\n",
    "            beer_ids.append(x)\n",
    "    print(beer_ids)\n",
    "    \n",
    "    for t in results2: \n",
    "        for x in t:\n",
    "            beer_prices.append(x)\n",
    "    print(beer_prices)\n",
    "    \n",
    "    for i in range(0,rows):\n",
    "        old_price = beer_prices[i]\n",
    "        new_price = old_price - 0.25\n",
    "        beer_prices[i] = new_price\n",
    "        print(beer_prices[i])\n",
    "\n",
    "    mySql_Update_Beer_Prices = \"\"\"UPDATE beer_types \n",
    "                                SET beer_price_min = %s \n",
    "                                WHERE beer_id = %s\"\"\"\n",
    "    \n",
    "    beer_prices_new = (*beer_prices,)\n",
    "    cursor = connection.cursor(buffered = True)\n",
    "    \n",
    "    for i in range(0,rows):\n",
    "        update = cursor.execute(mySql_Update_Beer_Prices,(beer_prices[i],beer_ids[i],))\n",
    "        connection.commit()\n",
    "    \n",
    "    cursor1.close()\n",
    "    cursor2.close()\n",
    "    cursor.close()\n",
    "    connection.close()\n",
    "    \n",
    "else:\n",
    "    print(\"Moron\")"
   ]
  },
  {
   "cell_type": "code",
   "execution_count": null,
   "metadata": {},
   "outputs": [],
   "source": []
  }
 ],
 "metadata": {
  "kernelspec": {
   "display_name": "Python 3",
   "language": "python",
   "name": "python3"
  },
  "language_info": {
   "codemirror_mode": {
    "name": "ipython",
    "version": 3
   },
   "file_extension": ".py",
   "mimetype": "text/x-python",
   "name": "python",
   "nbconvert_exporter": "python",
   "pygments_lexer": "ipython3",
   "version": "3.7.1"
  }
 },
 "nbformat": 4,
 "nbformat_minor": 2
}
