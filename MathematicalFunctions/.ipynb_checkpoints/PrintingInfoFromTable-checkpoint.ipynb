{
 "cells": [
  {
   "cell_type": "code",
   "execution_count": 11,
   "metadata": {},
   "outputs": [
    {
     "name": "stdout",
     "output_type": "stream",
     "text": [
      "\n",
      "Printing the record\n",
      "Id =  2\n",
      "Name =  Lagunitas IPA\n",
      "MySQL connection is closed\n"
     ]
    }
   ],
   "source": [
    "import mysql.connector\n",
    "from mysql.connector import Error\n",
    "\n",
    "try:\n",
    "    connection = mysql.connector.connect(host='localhost',\n",
    "                                         database='beeronomics',\n",
    "                                         user='root',\n",
    "                                         password='Cheers!!')\n",
    "\n",
    "    sql_select_Query = \"select * from beer_types WHERE beer_id = %s\"\n",
    "    cursor = connection.cursor()\n",
    "    cursor.execute(sql_select_Query,(Id,))\n",
    "    records = cursor.fetchall()\n",
    "\n",
    "    print(\"\\nPrinting the record\")\n",
    "    for row in records:\n",
    "        print(\"Id = \", row[0], )\n",
    "        print(\"Name = \", row[1])\n",
    "\n",
    "except Error as e:\n",
    "    print(\"Error reading data from MySQL table\", e)\n",
    "finally:\n",
    "    if (connection.is_connected()):\n",
    "        connection.close()\n",
    "        cursor.close()\n",
    "        print(\"MySQL connection is closed\")"
   ]
  },
  {
   "cell_type": "code",
   "execution_count": null,
   "metadata": {},
   "outputs": [],
   "source": []
  }
 ],
 "metadata": {
  "kernelspec": {
   "display_name": "Python 3",
   "language": "python",
   "name": "python3"
  },
  "language_info": {
   "codemirror_mode": {
    "name": "ipython",
    "version": 3
   },
   "file_extension": ".py",
   "mimetype": "text/x-python",
   "name": "python",
   "nbconvert_exporter": "python",
   "pygments_lexer": "ipython3",
   "version": "3.7.1"
  }
 },
 "nbformat": 4,
 "nbformat_minor": 2
}
