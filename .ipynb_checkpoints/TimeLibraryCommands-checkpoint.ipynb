{
 "cells": [
  {
   "cell_type": "code",
   "execution_count": 1,
   "metadata": {},
   "outputs": [
    {
     "name": "stdout",
     "output_type": "stream",
     "text": [
      "Fri Aug 21 19:38:40 2020\n"
     ]
    }
   ],
   "source": [
    "## Outputs the current time ##\n",
    "\n",
    "import time\n",
    "\n",
    "print(time.ctime())"
   ]
  },
  {
   "cell_type": "code",
   "execution_count": 3,
   "metadata": {},
   "outputs": [
    {
     "name": "stdout",
     "output_type": "stream",
     "text": [
      "Welcome to Beeronomics.\n",
      "Waited 5 Seconds, Ready for Next Command.\n"
     ]
    }
   ],
   "source": [
    "## Outputs a Prompted Request After a Cetain Amount Of Time ##\n",
    "\n",
    "#Time Library Call\n",
    "import time\n",
    "\n",
    "#Printing a Statement\n",
    "print(\"Welcome to Beeronomics.\")\n",
    "\n",
    "# Waits for 5 Seconds#\n",
    "time.sleep(5) #Number of Seconds Waited#\n",
    "\n",
    "# New Print Function\n",
    "print(\"Waited 5 Seconds, Ready for Next Command.\")"
   ]
  },
  {
   "cell_type": "code",
   "execution_count": 12,
   "metadata": {},
   "outputs": [
    {
     "name": "stdout",
     "output_type": "stream",
     "text": [
      "Starting the Program.\n",
      "The row count of the table is:  6 \n",
      "\n",
      "Printing each record from beer_types. \n",
      "\n",
      "ID =  1\n",
      "Name of Beer =  Pizza Port California Honey\n",
      "Minimum Beer Price =  4.0\n",
      "Maximum Beer Price =  7.0\n",
      "Active Beer Price =  None \n",
      "\n",
      "ID =  2\n",
      "Name of Beer =  Lagunitas IPA\n",
      "Minimum Beer Price =  5.0\n",
      "Maximum Beer Price =  8.0\n",
      "Active Beer Price =  None \n",
      "\n",
      "ID =  3\n",
      "Name of Beer =  Coors Light\n",
      "Minimum Beer Price =  3.0\n",
      "Maximum Beer Price =  4.5\n",
      "Active Beer Price =  None \n",
      "\n",
      "ID =  4\n",
      "Name of Beer =  Coors Banquet\n",
      "Minimum Beer Price =  3.0\n",
      "Maximum Beer Price =  4.5\n",
      "Active Beer Price =  None \n",
      "\n",
      "ID =  5\n",
      "Name of Beer =  Ballast Point Sculpin IPA\n",
      "Minimum Beer Price =  4.5\n",
      "Maximum Beer Price =  6.0\n",
      "Active Beer Price =  None \n",
      "\n",
      "ID =  6\n",
      "Name of Beer =  PP Swamis IPA\n",
      "Minimum Beer Price =  5.0\n",
      "Maximum Beer Price =  8.0\n",
      "Active Beer Price =  None \n",
      "\n",
      "MySQL connection is closed\n"
     ]
    }
   ],
   "source": [
    "## Outputs a value to the reader from the Database after a Certain amount of time ##\n",
    "\n",
    "import time # Calls time library\n",
    "\n",
    "import mysql.connector # Calls mySQL connector\n",
    "from mysql.connector import Error # Imports error function from mySQL Connector\n",
    "\n",
    "print(\"Starting the Program.\") # Outputs Statement to Start the Program\n",
    "\n",
    "try:\n",
    "    \n",
    "    connection = mysql.connector.connect(host='localhost', # Setting up the database connection\n",
    "                                         database = 'beeronomics',\n",
    "                                         user='root',\n",
    "                                         password='Cheers!!')\n",
    "    \n",
    "    mySql_Select_Table_Query = \"SELECT * FROM beer_types\" # The \"Select\" Query to run to the database\"\n",
    "    \n",
    "    time.sleep(5) #Pause for 5 seconds\n",
    "    cursor = connection.cursor() # Creates a Cursor (called cursor) that connects to the database\n",
    "    result = cursor.execute(mySql_Select_Table_Query) # Executes the Select Query\n",
    "    records = cursor.fetchall() #Fetches the data from the Database that you just called\n",
    "    print(\"The row count of the table is: \", cursor.rowcount, \"\\n\") # Prints the row count of the table\n",
    "    \n",
    "    print(\"Printing each record from beer_types.\", \"\\n\")\n",
    "    \n",
    "    for row in records: # Loop that will print the following values -\n",
    "        print(\"ID = \", row[0]) # 'row[0]' is the call for the certain row, column 1\n",
    "        print(\"Name of Beer = \", row[1]) # 'row[1]' is the call for the certain row, column 2\n",
    "        print(\"Minimum Beer Price = \", row[2]) # 'row[2]' is the call for the certain row, column 3\n",
    "        print(\"Maximum Beer Price = \", row[3]) # 'row[3]' is the call for the certain row, column 4\n",
    "        print(\"Active Beer Price = \", row[4], \"\\n\") # 'row[4]' is the call for the certain row, column 5\n",
    "        time.sleep(2) # Delays next loop 2 seconds\n",
    "\n",
    "except mysql.connector.Error as error:\n",
    "    print(\"Failed to create table in MySQL: {}\".format(error))\n",
    "finally:\n",
    "    if (connection.is_connected()):\n",
    "        cursor.close()\n",
    "        connection.close()\n",
    "        print(\"MySQL connection is closed\")"
   ]
  },
  {
   "cell_type": "code",
   "execution_count": 33,
   "metadata": {},
   "outputs": [
    {
     "name": "stdout",
     "output_type": "stream",
     "text": [
      "Starting the Program.\n",
      "The row count of the table is:  1 \n",
      "\n",
      "Printing each record from beer_types. \n",
      "\n",
      "ID =  1\n",
      "Name of Beer =  Pizza Port California Honey\n",
      "Minimum Beer Price =  4.0\n",
      "Maximum Beer Price =  7.0\n",
      "Active Beer Price =  None \n",
      "\n",
      "MySQL connection is closed\n"
     ]
    }
   ],
   "source": [
    "## Defines a function that gets the specific drink information ##\n",
    "\n",
    "import time # Calls time library\n",
    "\n",
    "import mysql.connector # Calls mySQL connector\n",
    "from mysql.connector import Error # Imports error function from mySQL Connector\n",
    "\n",
    "print(\"Starting the Program.\") # Outputs Statement to Start the Program\n",
    "            \n",
    "Id = 1\n",
    "getDrinkInformation(Id)\n",
    "\n",
    "def getDrinkInformation(Id):\n",
    "    try:\n",
    "    \n",
    "        connection = mysql.connector.connect(host='localhost', # Setting up the database connection\n",
    "                                         database = 'beeronomics',\n",
    "                                         user='root',\n",
    "                                         password='Cheers!!')\n",
    "        \n",
    "        cursor = connection.cursor(buffered = True) # Creates a Cursor (called cursor) that connects to the database\n",
    "        mySql_Select_Query = \"\"\"SELECT * \n",
    "                            FROM beer_types \n",
    "                            WHERE beer_id = %s\"\"\" # The \"Select\" Query to run to the database\n",
    "        \n",
    "        ##time.sleep(5) #Pause for 5 seconds\n",
    "        result = cursor.execute(mySql_Select_Query,(Id,)) # Executes the Select Query\n",
    "        records = cursor.fetchall() #Fetches the data from the Database that you just called\n",
    "        print(\"The row count of the table is: \", cursor.rowcount, \"\\n\") # Prints the row count of the table\n",
    "    \n",
    "        print(\"Printing each record from beer_types.\", \"\\n\")\n",
    "    \n",
    "        for row in records: # Loop that will print the following values -\n",
    "            print(\"ID = \", row[0]) # 'row[0]' is the call for the certain row, column 1\n",
    "            print(\"Name of Beer = \", row[1]) # 'row[1]' is the call for the certain row, column 2\n",
    "            print(\"Minimum Beer Price = \", row[2]) # 'row[2]' is the call for the certain row, column 3\n",
    "            print(\"Maximum Beer Price = \", row[3]) # 'row[3]' is the call for the certain row, column 4\n",
    "            print(\"Active Beer Price = \", row[4], \"\\n\") # 'row[4]' is the call for the certain row, column 5\n",
    "            time.sleep(2) # Delays next loop 2 seconds\n",
    "\n",
    "    except mysql.connector.Error as error:\n",
    "        print(\"Failed to create table in MySQL: {}\".format(error))\n",
    "    finally:\n",
    "        if (connection.is_connected()):\n",
    "            cursor.close()\n",
    "            connection.close()\n",
    "            print(\"MySQL connection is closed\")"
   ]
  },
  {
   "cell_type": "code",
   "execution_count": null,
   "metadata": {},
   "outputs": [],
   "source": []
  }
 ],
 "metadata": {
  "kernelspec": {
   "display_name": "Python 3",
   "language": "python",
   "name": "python3"
  },
  "language_info": {
   "codemirror_mode": {
    "name": "ipython",
    "version": 3
   },
   "file_extension": ".py",
   "mimetype": "text/x-python",
   "name": "python",
   "nbconvert_exporter": "python",
   "pygments_lexer": "ipython3",
   "version": "3.7.1"
  }
 },
 "nbformat": 4,
 "nbformat_minor": 2
}
